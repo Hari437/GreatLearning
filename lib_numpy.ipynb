{
 "cells": [
  {
   "cell_type": "markdown",
   "source": [
    "# numpy"
   ],
   "metadata": {}
  },
  {
   "cell_type": "code",
   "execution_count": 4,
   "source": [
    "import numpy as np"
   ],
   "outputs": [],
   "metadata": {}
  },
  {
   "cell_type": "markdown",
   "source": [
    "## array"
   ],
   "metadata": {}
  },
  {
   "cell_type": "code",
   "execution_count": 17,
   "source": [
    "prs_ht = [177.7, 175.4, 173.6, 178.0]\n",
    "prs_wt = [76, 77, 75, 79, 79]\n",
    "\n",
    "prs_ht = np.array(prs_ht)\n",
    "prs_wt = np.array(prs_wt)\n",
    "type(prs_wt)\n",
    "prs_ht[[1,3]]"
   ],
   "outputs": [
    {
     "output_type": "execute_result",
     "data": {
      "text/plain": [
       "array([175.4, 178. ])"
      ]
     },
     "metadata": {},
     "execution_count": 17
    }
   ],
   "metadata": {}
  },
  {
   "cell_type": "code",
   "execution_count": 13,
   "source": [
    "## 2d array\n",
    "arr = [\n",
    "    [1, 2, 3],\n",
    "    [4, 5, 6],\n",
    "    [7, 8, 9]\n",
    "]\n",
    "arr = np.array(arr)\n",
    "# arr[1][1] === arr[1,1]\n",
    "arr[:, 1]"
   ],
   "outputs": [
    {
     "output_type": "execute_result",
     "data": {
      "text/plain": [
       "array([2, 5, 8])"
      ]
     },
     "metadata": {},
     "execution_count": 13
    }
   ],
   "metadata": {}
  },
  {
   "cell_type": "code",
   "execution_count": 25,
   "source": [
    "## Slicing\n",
    "arr = np.array([\n",
    "    [101, 131, 122, 113, 143],\n",
    "    [145, 165, 137, 318, 193],\n",
    "    [240, 241, 252, 253, 324],\n",
    "    [225, 126, 727, 928, 129]\n",
    "])\n",
    "arr[1:, 2:4]"
   ],
   "outputs": [
    {
     "output_type": "execute_result",
     "data": {
      "text/plain": [
       "array([[137, 318],\n",
       "       [252, 253],\n",
       "       [727, 928]])"
      ]
     },
     "metadata": {},
     "execution_count": 25
    }
   ],
   "metadata": {}
  },
  {
   "cell_type": "code",
   "execution_count": 51,
   "source": [
    "## Operations\n",
    "### Addition\n",
    "arr1 = np.array([140, 133, 150, 148])\n",
    "arr2 =np.array([5,5,5,5]) # np.arange(1,5)\n",
    "# arr1 +5\n",
    "arr1 + arr2"
   ],
   "outputs": [
    {
     "output_type": "execute_result",
     "data": {
      "text/plain": [
       "array([145, 138, 155, 153])"
      ]
     },
     "metadata": {},
     "execution_count": 51
    }
   ],
   "metadata": {}
  },
  {
   "cell_type": "code",
   "execution_count": 39,
   "source": [
    "### Multi\n",
    "arr1 * arr2\n",
    "arr1 ** arr2\n",
    "arr1 / arr2\n",
    "arr1 % arr2"
   ],
   "outputs": [
    {
     "output_type": "execute_result",
     "data": {
      "text/plain": [
       "array([0, 1, 0, 0])"
      ]
     },
     "metadata": {},
     "execution_count": 39
    }
   ],
   "metadata": {}
  },
  {
   "cell_type": "code",
   "execution_count": 43,
   "source": [
    "### Comparison and Filtering\n",
    "arr_bool = arr1 > 140\n",
    "arr_bool\n",
    "arr1[arr_bool]"
   ],
   "outputs": [
    {
     "output_type": "execute_result",
     "data": {
      "text/plain": [
       "array([150, 148])"
      ]
     },
     "metadata": {},
     "execution_count": 43
    }
   ],
   "metadata": {}
  },
  {
   "cell_type": "code",
   "execution_count": 48,
   "source": [
    "## Arithmetic Operation Funs\n",
    "arr1.sum()\n",
    "arr1.min()\n",
    "np.power(arr1, 2)"
   ],
   "outputs": [
    {
     "output_type": "execute_result",
     "data": {
      "text/plain": [
       "array([19600, 17689, 22500, 21904])"
      ]
     },
     "metadata": {},
     "execution_count": 48
    }
   ],
   "metadata": {}
  },
  {
   "cell_type": "code",
   "execution_count": 67,
   "source": [
    "## Contatentions\n",
    "# 1d\n",
    "arr1 = [1, 2, 3]\n",
    "arr2 = [4, 5, 6]\n",
    "np.concatenate([arr1,arr2]) # axis: 0 [default]"
   ],
   "outputs": [
    {
     "output_type": "execute_result",
     "data": {
      "text/plain": [
       "array([1, 2, 3, 4, 5, 6])"
      ]
     },
     "metadata": {},
     "execution_count": 67
    }
   ],
   "metadata": {}
  },
  {
   "cell_type": "code",
   "execution_count": 68,
   "source": [
    "### 2d\n",
    "my_array = np.array([\n",
    "    [1,2,3],\n",
    "    [4,5,6]\n",
    "])\n",
    "np.concatenate([my_array, my_array], axis=1)"
   ],
   "outputs": [
    {
     "output_type": "execute_result",
     "data": {
      "text/plain": [
       "array([[1, 2, 3, 1, 2, 3],\n",
       "       [4, 5, 6, 4, 5, 6]])"
      ]
     },
     "metadata": {},
     "execution_count": 68
    }
   ],
   "metadata": {}
  },
  {
   "cell_type": "code",
   "execution_count": 83,
   "source": [
    "## Splitting\n",
    "### split()\n",
    "arr = np.arange(10)\n",
    "# np.split(arr, 2)\n",
    "np.split(arr, [5, 7])"
   ],
   "outputs": [
    {
     "output_type": "execute_result",
     "data": {
      "text/plain": [
       "[array([0, 1, 2, 3, 4]), array([5, 6]), array([7, 8, 9])]"
      ]
     },
     "metadata": {},
     "execution_count": 83
    }
   ],
   "metadata": {}
  },
  {
   "cell_type": "code",
   "execution_count": 81,
   "source": [
    "### array_split()\n",
    "np.array_split(arr, 3)"
   ],
   "outputs": [
    {
     "output_type": "execute_result",
     "data": {
      "text/plain": [
       "[array([0, 1, 2, 3]), array([4, 5, 6]), array([7, 8, 9])]"
      ]
     },
     "metadata": {},
     "execution_count": 81
    }
   ],
   "metadata": {}
  },
  {
   "cell_type": "code",
   "execution_count": 87,
   "source": [
    "### vsplit hsplit\n",
    "arr = np.arange(20).reshape(4,5)\n",
    "np.vsplit(arr, 2)"
   ],
   "outputs": [
    {
     "output_type": "execute_result",
     "data": {
      "text/plain": [
       "[array([[0, 1, 2, 3, 4],\n",
       "        [5, 6, 7, 8, 9]]),\n",
       " array([[10, 11, 12, 13, 14],\n",
       "        [15, 16, 17, 18, 19]])]"
      ]
     },
     "metadata": {},
     "execution_count": 87
    }
   ],
   "metadata": {}
  },
  {
   "cell_type": "code",
   "execution_count": 92,
   "source": [
    "### hsplit\n",
    "arr = np.arange(16).reshape(4,4)\n",
    "np.hsplit(arr, 2)"
   ],
   "outputs": [
    {
     "output_type": "execute_result",
     "data": {
      "text/plain": [
       "[array([[ 0,  1],\n",
       "        [ 4,  5],\n",
       "        [ 8,  9],\n",
       "        [12, 13]]),\n",
       " array([[ 2,  3],\n",
       "        [ 6,  7],\n",
       "        [10, 11],\n",
       "        [14, 15]])]"
      ]
     },
     "metadata": {},
     "execution_count": 92
    }
   ],
   "metadata": {}
  }
 ],
 "metadata": {
  "orig_nbformat": 4,
  "language_info": {
   "name": "python",
   "version": "3.6.9",
   "mimetype": "text/x-python",
   "codemirror_mode": {
    "name": "ipython",
    "version": 3
   },
   "pygments_lexer": "ipython3",
   "nbconvert_exporter": "python",
   "file_extension": ".py"
  },
  "kernelspec": {
   "name": "python3",
   "display_name": "Python 3.6.9 64-bit ('GreatLearning': virtualenv)"
  },
  "interpreter": {
   "hash": "77c3b6cb408350134efb4f5760a185604d3640f64a1609ce0fc5cd864cbe706e"
  }
 },
 "nbformat": 4,
 "nbformat_minor": 2
}
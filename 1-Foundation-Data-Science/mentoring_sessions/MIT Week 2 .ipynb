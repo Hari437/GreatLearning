{
 "cells": [
  {
   "cell_type": "code",
   "execution_count": 3,
   "source": [
    "import numpy as np\n",
    "import scipy.stats as stats\n",
    "from scipy.stats import norm\n",
    "import matplotlib.pyplot as plt"
   ],
   "outputs": [],
   "metadata": {
    "ExecuteTime": {
     "end_time": "2021-08-22T13:36:22.461818Z",
     "start_time": "2021-08-22T13:36:21.505693Z"
    }
   }
  },
  {
   "cell_type": "markdown",
   "source": [
    "## Binomial Distribution"
   ],
   "metadata": {}
  },
  {
   "cell_type": "code",
   "execution_count": 4,
   "source": [
    "# Probability Mass Function\n",
    "# ARgs: k, n, p (no of success, experiments, probability of single)\n",
    "# 6 successes out of 10 with probability .75\n",
    "stats.binom.pmf(6,10,.75)"
   ],
   "outputs": [
    {
     "output_type": "execute_result",
     "data": {
      "text/plain": [
       "0.14599800109863292"
      ]
     },
     "metadata": {},
     "execution_count": 4
    }
   ],
   "metadata": {
    "ExecuteTime": {
     "end_time": "2021-08-22T13:37:16.766043Z",
     "start_time": "2021-08-22T13:37:16.751055Z"
    }
   }
  },
  {
   "cell_type": "code",
   "execution_count": 5,
   "source": [
    "# 6 successes out of 16 with probability .45\n",
    "stats.binom.pmf(6,16,.45)"
   ],
   "outputs": [
    {
     "output_type": "execute_result",
     "data": {
      "text/plain": [
       "0.1684325571075128"
      ]
     },
     "metadata": {},
     "execution_count": 5
    }
   ],
   "metadata": {
    "ExecuteTime": {
     "end_time": "2021-08-22T13:37:28.923461Z",
     "start_time": "2021-08-22T13:37:28.917447Z"
    }
   }
  },
  {
   "cell_type": "markdown",
   "source": [
    "## Normal Distribution"
   ],
   "metadata": {}
  },
  {
   "cell_type": "markdown",
   "source": [
    "Q2: Probability Dist of cereal package with avg 295g & SD 25g"
   ],
   "metadata": {}
  },
  {
   "cell_type": "code",
   "execution_count": 6,
   "source": [
    "# Cumulative Distribution Function\n",
    "# Args: val, m, s (Value of x, mean, std deviation)\n",
    "# cdf(x < val)\n",
    "# Probability of Less than 280g with 295g mean and 25g std deviation\n",
    "stats.norm.cdf(.28,.295,0.025)"
   ],
   "outputs": [
    {
     "output_type": "execute_result",
     "data": {
      "text/plain": [
       "0.2742531177500741"
      ]
     },
     "metadata": {},
     "execution_count": 6
    }
   ],
   "metadata": {
    "ExecuteTime": {
     "end_time": "2021-08-22T13:43:58.649967Z",
     "start_time": "2021-08-22T13:43:58.644946Z"
    }
   }
  },
  {
   "cell_type": "code",
   "execution_count": 7,
   "source": [
    "# cdf(x > v)\n",
    "# P of weighing more than 350 g with 295g mean and 25g std deviation\n",
    "1-stats.norm.cdf(.35,.295,0.025)"
   ],
   "outputs": [
    {
     "output_type": "execute_result",
     "data": {
      "text/plain": [
       "0.01390344751349859"
      ]
     },
     "metadata": {},
     "execution_count": 7
    }
   ],
   "metadata": {
    "ExecuteTime": {
     "end_time": "2021-08-22T13:45:43.951774Z",
     "start_time": "2021-08-22T13:45:43.946789Z"
    }
   }
  },
  {
   "cell_type": "code",
   "execution_count": 8,
   "source": [
    "# Same problem as earlier\n",
    "# sf(v) = cdf(x > v)\n",
    "# Probability of packets weighing more/greater than 350g \n",
    "stats.norm.sf(.35,.295,0.025)"
   ],
   "outputs": [
    {
     "output_type": "execute_result",
     "data": {
      "text/plain": [
       "0.013903447513498616"
      ]
     },
     "metadata": {},
     "execution_count": 8
    }
   ],
   "metadata": {
    "ExecuteTime": {
     "end_time": "2021-08-22T13:45:42.062660Z",
     "start_time": "2021-08-22T13:45:42.050730Z"
    }
   }
  },
  {
   "cell_type": "code",
   "execution_count": 9,
   "source": [
    "# cdf(v1 < x < v2)\n",
    "# Probability of getting a package with wt btw 260g-340g\n",
    "stats.norm.cdf(.34,.295,0.025) - stats.norm.cdf(.26,.295,0.025)"
   ],
   "outputs": [
    {
     "output_type": "execute_result",
     "data": {
      "text/plain": [
       "0.8833130216533032"
      ]
     },
     "metadata": {},
     "execution_count": 9
    }
   ],
   "metadata": {
    "ExecuteTime": {
     "end_time": "2021-08-22T13:46:25.716841Z",
     "start_time": "2021-08-22T13:46:25.709862Z"
    }
   }
  },
  {
   "cell_type": "code",
   "execution_count": 10,
   "source": [
    "stats.norm.ppf(.99,.295,0.025)"
   ],
   "outputs": [
    {
     "output_type": "execute_result",
     "data": {
      "text/plain": [
       "0.353158696851021"
      ]
     },
     "metadata": {},
     "execution_count": 10
    }
   ],
   "metadata": {
    "ExecuteTime": {
     "end_time": "2021-08-22T13:47:55.315954Z",
     "start_time": "2021-08-22T13:47:55.309012Z"
    }
   }
  },
  {
   "cell_type": "code",
   "execution_count": 11,
   "source": [
    "# Extra\n",
    "# Note loc-mean, scale-SD"
   ],
   "outputs": [],
   "metadata": {}
  },
  {
   "cell_type": "code",
   "execution_count": 12,
   "source": [
    "# Norm\n",
    "fig, ax = plt.subplots(1,1)\n",
    "# print(fig, ax)\n",
    "# plt.show()\n",
    "mean, var, skew, kurt = stats.norm.stats(moments='mvsk')\n",
    "# mean, var, skew, kurt\n",
    "# norm.ppf(0.99)\n",
    "x = np.linspace(norm.ppf(0.01), norm.ppf(0.99), 100)\n",
    "ax.plot(x, norm.pdf(x), 'r-', lw=5, alpha=0.6, label='norm pdf')\n"
   ],
   "outputs": [
    {
     "output_type": "execute_result",
     "data": {
      "text/plain": [
       "[<matplotlib.lines.Line2D at 0x7f2b08fe8978>]"
      ]
     },
     "metadata": {},
     "execution_count": 12
    },
    {
     "output_type": "display_data",
     "data": {
      "image/png": "[encoded data removed]",
      "text/plain": [
       "<Figure size 432x288 with 1 Axes>"
      ]
     },
     "metadata": {
      "needs_background": "light"
     }
    }
   ],
   "metadata": {}
  },
  {
   "cell_type": "markdown",
   "source": [
    "Problem 4: Per capita consumption of US water:\n",
    "m = 42.2 gallons\n",
    "sd = 13 gallons\n"
   ],
   "metadata": {}
  },
  {
   "cell_type": "code",
   "execution_count": 18,
   "source": [
    "m = 42.2\n",
    "sd = 13\n",
    "# person consumed ore than 60 gallons\n",
    "1-stats.norm.cdf(60, m ,sd), norm.sf(60, m,sd)"
   ],
   "outputs": [
    {
     "output_type": "execute_result",
     "data": {
      "text/plain": [
       "(0.08546357539969551, 0.08546357539969546)"
      ]
     },
     "metadata": {},
     "execution_count": 18
    }
   ],
   "metadata": {}
  },
  {
   "cell_type": "code",
   "execution_count": 20,
   "source": [
    "# X btw (15, 30)\n",
    "norm.cdf(30, m, sd) - norm.cdf(15, m, sd)"
   ],
   "outputs": [
    {
     "output_type": "execute_result",
     "data": {
      "text/plain": [
       "0.15579813682588411"
      ]
     },
     "metadata": {},
     "execution_count": 20
    }
   ],
   "metadata": {}
  },
  {
   "cell_type": "code",
   "execution_count": 21,
   "source": [
    "# X < 15\n",
    "norm.cdf(15, m, sd)"
   ],
   "outputs": [
    {
     "output_type": "execute_result",
     "data": {
      "text/plain": [
       "0.01820550002204223"
      ]
     },
     "metadata": {},
     "execution_count": 21
    }
   ],
   "metadata": {}
  },
  {
   "cell_type": "code",
   "execution_count": 23,
   "source": [
    "# 99 % of population consumed how many\n",
    "norm.ppf(.99, m ,sd)"
   ],
   "outputs": [
    {
     "output_type": "execute_result",
     "data": {
      "text/plain": [
       "72.44252236253094"
      ]
     },
     "metadata": {},
     "execution_count": 23
    }
   ],
   "metadata": {}
  },
  {
   "cell_type": "markdown",
   "source": [
    "Quiz"
   ],
   "metadata": {}
  },
  {
   "cell_type": "code",
   "execution_count": 31,
   "source": [
    "a = [2, 4, 4, 3, 8, 67, 23]\n",
    "a.sort()\n",
    "a"
   ],
   "outputs": [
    {
     "output_type": "execute_result",
     "data": {
      "text/plain": [
       "[2, 3, 4, 4, 8, 23, 67]"
      ]
     },
     "metadata": {},
     "execution_count": 31
    }
   ],
   "metadata": {}
  }
 ],
 "metadata": {
  "kernelspec": {
   "name": "python3",
   "display_name": "Python 3.6.9 64-bit ('GreatLearning': virtualenv)"
  },
  "language_info": {
   "codemirror_mode": {
    "name": "ipython",
    "version": 3
   },
   "file_extension": ".py",
   "mimetype": "text/x-python",
   "name": "python",
   "nbconvert_exporter": "python",
   "pygments_lexer": "ipython3",
   "version": "3.6.9"
  },
  "interpreter": {
   "hash": "77c3b6cb408350134efb4f5760a185604d3640f64a1609ce0fc5cd864cbe706e"
  }
 },
 "nbformat": 4,
 "nbformat_minor": 5
}